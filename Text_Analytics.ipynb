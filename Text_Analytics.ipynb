{
  "nbformat": 4,
  "nbformat_minor": 0,
  "metadata": {
    "colab": {
      "name": "Text Analytics.ipynb",
      "provenance": [],
      "authorship_tag": "ABX9TyN7tJY9WT1XxT3/aTo0Csw9"
    },
    "kernelspec": {
      "name": "python3",
      "display_name": "Python 3"
    },
    "language_info": {
      "name": "python"
    }
  },
  "cells": [
    {
      "cell_type": "code",
      "source": [
        "import nltk"
      ],
      "metadata": {
        "id": "7PtO4azvCf9d"
      },
      "execution_count": null,
      "outputs": []
    },
    {
      "cell_type": "code",
      "execution_count": null,
      "metadata": {
        "colab": {
          "base_uri": "https://localhost:8080/"
        },
        "id": "vQmZ0cXcBoJn",
        "outputId": "d57c3a32-1d6f-4a0f-facc-3c6ac0841cd3"
      },
      "outputs": [
        {
          "output_type": "stream",
          "name": "stdout",
          "text": [
            "[nltk_data] Downloading package punkt to /root/nltk_data...\n",
            "[nltk_data]   Unzipping tokenizers/punkt.zip.\n",
            "[nltk_data] Downloading package wordnet to /root/nltk_data...\n",
            "[nltk_data]   Unzipping corpora/wordnet.zip.\n",
            "[nltk_data] Downloading package stopwords to /root/nltk_data...\n",
            "[nltk_data]   Unzipping corpora/stopwords.zip.\n",
            "[nltk_data] Downloading package averaged_perceptron_tagger to\n",
            "[nltk_data]     /root/nltk_data...\n",
            "[nltk_data]   Unzipping taggers/averaged_perceptron_tagger.zip.\n"
          ]
        },
        {
          "output_type": "execute_result",
          "data": {
            "text/plain": [
              "True"
            ]
          },
          "metadata": {},
          "execution_count": 2
        }
      ],
      "source": [
        "\n",
        "nltk.download('punkt') #tokenize\n",
        "nltk.download('wordnet') # lemmatize\n",
        "nltk.download('stopwords') #for stopwords\n",
        "nltk.download('averaged_perceptron_tagger') #parts of speech"
      ]
    },
    {
      "cell_type": "code",
      "source": [
        "d1 = \"He is a good guy, he is not bad\"\n",
        "d2 = \"feet wolves cooked boys girls, !<@!\"\n",
        "d3 = \"He is not a good guy, he is bad\"\n",
        "c1 = [d1, d2, d3]"
      ],
      "metadata": {
        "id": "BZmgUezLCqGi"
      },
      "execution_count": null,
      "outputs": []
    },
    {
      "cell_type": "code",
      "source": [
        "#tokenize\n",
        "token_d1 = nltk.word_tokenize(d1)\n",
        "print(token_d1)\n",
        "\n",
        "tokenizer2 = nltk.tokenize.WhitespaceTokenizer()\n",
        "token_d12 = tokenizer2.tokenize(d1)\n",
        "print(token_d12)"
      ],
      "metadata": {
        "colab": {
          "base_uri": "https://localhost:8080/"
        },
        "id": "zLa1VBo5C0j8",
        "outputId": "ad14a7d7-8ac5-4d4d-a7e2-b133af0d1f2b"
      },
      "execution_count": null,
      "outputs": [
        {
          "output_type": "stream",
          "name": "stdout",
          "text": [
            "['He', 'is', 'a', 'good', 'guy', ',', 'he', 'is', 'not', 'bad']\n",
            "['He', 'is', 'a', 'good', 'guy,', 'he', 'is', 'not', 'bad']\n"
          ]
        }
      ]
    },
    {
      "cell_type": "code",
      "source": [
        "\n",
        "##BOW Frequency\n",
        "from sklearn.feature_extraction.text import CountVectorizer\n",
        "vectorizer1 = CountVectorizer()\n",
        "vectorizer1.fit(c1)\n",
        "print(vectorizer1.vocabulary_)\n",
        "v1 = vectorizer1.transform(c1)\n",
        "print(v1.toarray())\n"
      ],
      "metadata": {
        "colab": {
          "base_uri": "https://localhost:8080/"
        },
        "id": "DHKvU0OSGNSA",
        "outputId": "d01d6eee-c7f4-4af4-92fe-849147ba6a0a"
      },
      "execution_count": null,
      "outputs": [
        {
          "output_type": "stream",
          "name": "stdout",
          "text": [
            "{'he': 7, 'is': 8, 'good': 5, 'guy': 6, 'not': 9, 'bad': 0, 'feet': 3, 'wolves': 10, 'cooked': 2, 'boys': 1, 'girls': 4}\n",
            "[[1 0 0 0 0 1 1 2 2 1 0]\n",
            " [0 1 1 1 1 0 0 0 0 0 1]\n",
            " [1 0 0 0 0 1 1 2 2 1 0]]\n"
          ]
        }
      ]
    },
    {
      "cell_type": "code",
      "source": [
        "###STEMMER\n",
        "token_d2 = nltk.word_tokenize(d2.lower())\n",
        "stemmer = nltk.stem.PorterStemmer()\n",
        "stemmered_token_d2 = [stemmer.stem(token) for token in token_d2 if token.isalpha()]\n",
        "print(token_d2)\n",
        "print(stemmered_token_d2)\n",
        "lemmatizer = nltk.stem.WordNetLemmatizer()\n",
        "lemmatized_token_d2 = [lemmatizer.lemmatize(token) for token in token_d2 if token.isalpha()]\n",
        "print(lemmatized_token_d2)\n",
        "###remove stop words\n",
        "from nltk.corpus import stopwords\n",
        "stop_words_removed = [token for token in token_d1 if not token in stopwords.words('english') if token.isalpha()]\n",
        "print(token_d1)\n",
        "print(stop_words_removed)\n",
        "### low frequency words\n",
        "Vectorizer2 = CountVectorizer(min_df=2)\n",
        "Vectorizer2.fit(c1)\n",
        "print(vectorizer2.vocabulary_)\n",
        "v2 = vectorizer2.transform(c1)\n",
        "print(v2.toarray())"
      ],
      "metadata": {
        "colab": {
          "base_uri": "https://localhost:8080/",
          "height": 322
        },
        "id": "f8cqUZ19HABe",
        "outputId": "01fc291b-c3dd-44d2-84fa-4a04dabea988"
      },
      "execution_count": null,
      "outputs": [
        {
          "output_type": "stream",
          "name": "stdout",
          "text": [
            "['feet', 'wolves', 'cooked', 'boys', 'girls', ',', '!', '<', '@', '!']\n",
            "['feet', 'wolv', 'cook', 'boy', 'girl']\n",
            "['foot', 'wolf', 'cooked', 'boy', 'girl']\n",
            "['He', 'is', 'a', 'good', 'guy', ',', 'he', 'is', 'not', 'bad']\n",
            "['He', 'good', 'guy', 'bad']\n"
          ]
        },
        {
          "output_type": "error",
          "ename": "NameError",
          "evalue": "ignored",
          "traceback": [
            "\u001b[0;31m---------------------------------------------------------------------------\u001b[0m",
            "\u001b[0;31mNameError\u001b[0m                                 Traceback (most recent call last)",
            "\u001b[0;32m<ipython-input-13-1b1a16d27669>\u001b[0m in \u001b[0;36m<module>\u001b[0;34m()\u001b[0m\n\u001b[1;32m     16\u001b[0m \u001b[0mVectorizer2\u001b[0m \u001b[0;34m=\u001b[0m \u001b[0mCountVectorizer\u001b[0m\u001b[0;34m(\u001b[0m\u001b[0mmin_df\u001b[0m\u001b[0;34m=\u001b[0m\u001b[0;36m2\u001b[0m\u001b[0;34m)\u001b[0m\u001b[0;34m\u001b[0m\u001b[0;34m\u001b[0m\u001b[0m\n\u001b[1;32m     17\u001b[0m \u001b[0mVectorizer2\u001b[0m\u001b[0;34m.\u001b[0m\u001b[0mfit\u001b[0m\u001b[0;34m(\u001b[0m\u001b[0mc1\u001b[0m\u001b[0;34m)\u001b[0m\u001b[0;34m\u001b[0m\u001b[0;34m\u001b[0m\u001b[0m\n\u001b[0;32m---> 18\u001b[0;31m \u001b[0mprint\u001b[0m\u001b[0;34m(\u001b[0m\u001b[0mvectorizer2\u001b[0m\u001b[0;34m.\u001b[0m\u001b[0mvocabulary_\u001b[0m\u001b[0;34m)\u001b[0m\u001b[0;34m\u001b[0m\u001b[0;34m\u001b[0m\u001b[0m\n\u001b[0m\u001b[1;32m     19\u001b[0m \u001b[0mv2\u001b[0m \u001b[0;34m=\u001b[0m \u001b[0mvectorizer2\u001b[0m\u001b[0;34m.\u001b[0m\u001b[0mtransform\u001b[0m\u001b[0;34m(\u001b[0m\u001b[0mc1\u001b[0m\u001b[0;34m)\u001b[0m\u001b[0;34m\u001b[0m\u001b[0;34m\u001b[0m\u001b[0m\n\u001b[1;32m     20\u001b[0m \u001b[0mprint\u001b[0m\u001b[0;34m(\u001b[0m\u001b[0mv2\u001b[0m\u001b[0;34m.\u001b[0m\u001b[0mtoarray\u001b[0m\u001b[0;34m(\u001b[0m\u001b[0;34m)\u001b[0m\u001b[0;34m)\u001b[0m\u001b[0;34m\u001b[0m\u001b[0;34m\u001b[0m\u001b[0m\n",
            "\u001b[0;31mNameError\u001b[0m: name 'vectorizer2' is not defined"
          ]
        }
      ]
    }
  ]
}